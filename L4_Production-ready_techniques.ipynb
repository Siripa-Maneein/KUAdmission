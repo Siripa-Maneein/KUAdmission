{
 "cells": [
  {
   "cell_type": "markdown",
   "id": "32d013f7",
   "metadata": {},
   "source": [
    "# JavaScript RAG Web App with LlamaIndex"
   ]
  },
  {
   "cell_type": "markdown",
   "id": "49412c5b",
   "metadata": {},
   "source": [
    "### Import required dependencies and load the API key"
   ]
  },
  {
   "cell_type": "code",
   "execution_count": 1,
   "id": "df8739ce-2780-4c8a-b52d-0fb81edaa365",
   "metadata": {
    "height": 183
   },
   "outputs": [],
   "source": [
    "import * as mod from \"https://deno.land/std@0.213.0/dotenv/mod.ts\";\n",
    "import { \n",
    "    Document, \n",
    "    VectorStoreIndex, \n",
    "    SimpleDirectoryReader,\n",
    "    RouterQueryEngine,\n",
    "    storageContextFromDefaults,\n",
    "    ContextChatEngine\n",
    "} from \"npm:llamaindex@0.1.12\"\n",
    "const keys = await mod.load({export:true}) // read API key from .env"
   ]
  },
  {
   "cell_type": "markdown",
   "id": "99e39887",
   "metadata": {},
   "source": [
    "## 1. Persisting your data"
   ]
  },
  {
   "cell_type": "markdown",
   "id": "1407d627",
   "metadata": {},
   "source": [
    "### Set up a storage context"
   ]
  },
  {
   "cell_type": "code",
   "execution_count": 2,
   "id": "382754f9-07a9-4a05-849c-184ab340c882",
   "metadata": {
    "height": 64
   },
   "outputs": [
    {
     "name": "stderr",
     "output_type": "stream",
     "text": [
      "No valid data found at path: storage/doc_store.json starting new store.\n",
      "No valid data found at path: storage/index_store.json starting new store.\n",
      "No valid data found at path: ./storage/vector_store.json starting new store.\n"
     ]
    }
   ],
   "source": [
    "const storageContext = await storageContextFromDefaults({\n",
    "  persistDir: \"./storage\",\n",
    "});"
   ]
  },
  {
   "cell_type": "markdown",
   "id": "2de8fa27",
   "metadata": {},
   "source": [
    "### Load the data and create an index"
   ]
  },
  {
   "cell_type": "code",
   "execution_count": 3,
   "id": "0a83bc49-d1cf-43b8-b5f2-e229de0920ba",
   "metadata": {
    "height": 115
   },
   "outputs": [],
   "source": [
    "const documents = await new SimpleDirectoryReader().loadData({\n",
    "  directoryPath: \"./data\", // we have the React wikipedia page in here\n",
    "});\n",
    "let index = await VectorStoreIndex.fromDocuments(documents, {\n",
    "  storageContext\n",
    "});"
   ]
  },
  {
   "cell_type": "markdown",
   "id": "70183617",
   "metadata": {},
   "source": [
    "### Let's ask it a question!"
   ]
  },
  {
   "cell_type": "code",
   "execution_count": 4,
   "id": "afe86f98-219e-46ba-b577-39e29f8adbd0",
   "metadata": {
    "height": 64
   },
   "outputs": [
    {
     "name": "stdout",
     "output_type": "stream",
     "text": [
      "There are four rounds of TCAS admission for Kasetsart University (KU): TCAS1 (Portfolio), TCAS2 (Quota), TCAS3 (Admission), and TCAS4 (Direct Admission).\n"
     ]
    }
   ],
   "source": [
    "let engine = await index.asQueryEngine()\n",
    "let response = await engine.query({query:\"How many round of tcas admission are there for KU?\"})\n",
    "console.log(response.toString())"
   ]
  },
  {
   "cell_type": "markdown",
   "id": "7607dfb3",
   "metadata": {},
   "source": [
    "### Get an index without parsing the documents "
   ]
  },
  {
   "cell_type": "code",
   "execution_count": 5,
   "id": "d2d47e4a-e6c0-415f-92be-45ebba67be98",
   "metadata": {
    "height": 64
   },
   "outputs": [],
   "source": [
    "let storageContext2 = await storageContextFromDefaults({\n",
    "    persistDir: \"./storage\",\n",
    "});"
   ]
  },
  {
   "cell_type": "markdown",
   "id": "a91dad78",
   "metadata": {},
   "source": [
    "### Initialize the index"
   ]
  },
  {
   "cell_type": "code",
   "execution_count": 6,
   "id": "8d6f0326-7144-4b5b-95f5-ba5f3e9cfc21",
   "metadata": {
    "height": 64
   },
   "outputs": [],
   "source": [
    "let index2 = await VectorStoreIndex.init({\n",
    "    storageContext: storageContext2\n",
    "});"
   ]
  },
  {
   "cell_type": "markdown",
   "id": "23ab2471",
   "metadata": {},
   "source": [
    "### Let's query it!"
   ]
  },
  {
   "cell_type": "code",
   "execution_count": 7,
   "id": "d154581a-2a5c-4143-ac49-c98107d8262f",
   "metadata": {
    "height": 64
   },
   "outputs": [
    {
     "name": "stdout",
     "output_type": "stream",
     "text": [
      "There are four rounds of TCAS admission for KU: TCAS1 (Portfolio), TCAS2 (Quota), TCAS3 (Admission), and TCAS4 (Direct Admission).\n"
     ]
    }
   ],
   "source": [
    "let engine2 = await index2.asQueryEngine()\n",
    "let response2 = await engine2.query({query:\"How many round of tcas admission are there for KU?\"})\n",
    "console.log(response2.toString())"
   ]
  },
  {
   "cell_type": "markdown",
   "id": "988aecd0",
   "metadata": {},
   "source": [
    "## 2. Chatting with your data"
   ]
  },
  {
   "cell_type": "markdown",
   "id": "4bedb39c",
   "metadata": {},
   "source": [
    "### Create a retriever and a new chat engine"
   ]
  },
  {
   "cell_type": "code",
   "execution_count": 8,
   "id": "19489e8c-d71a-4b21-bccf-245cd8be42ae",
   "metadata": {
    "height": 132
   },
   "outputs": [
    {
     "data": {
      "text/plain": [
       "\u001b[33m3\u001b[39m"
      ]
     },
     "execution_count": 8,
     "metadata": {},
     "output_type": "execute_result"
    }
   ],
   "source": [
    "const retriever = index2.asRetriever();\n",
    "retriever.similarityTopK = 3;\n",
    "\n",
    "let chatEngine = new ContextChatEngine({\n",
    "    retriever,\n",
    "});\n"
   ]
  },
  {
   "cell_type": "markdown",
   "id": "8d0bc17d",
   "metadata": {},
   "source": [
    "### Let's try it!"
   ]
  },
  {
   "cell_type": "code",
   "execution_count": 9,
   "id": "5eaebc17-aa7e-452b-ab89-493726fc66a2",
   "metadata": {
    "height": 183
   },
   "outputs": [],
   "source": [
    "let messageHistory = [\n",
    "    {\n",
    "        role: \"user\",\n",
    "        content: \"How many round of tcas admission are there for KU??\"\n",
    "    },\n",
    "    {\n",
    "        role: \"assistant\",\n",
    "        content: \"There are four rounds of TCAS admission for Kasetsart University (KU).\"\n",
    "    }\n",
    "]"
   ]
  },
  {
   "cell_type": "code",
   "execution_count": 10,
   "id": "bc0a2005-096e-44f2-9949-06ff3419a011",
   "metadata": {
    "height": 47
   },
   "outputs": [],
   "source": [
    "let newMessage = \"What was that last thing you mentioned?\"\n"
   ]
  },
  {
   "cell_type": "code",
   "execution_count": 11,
   "id": "1a18f788-f146-48b9-ba39-f224ad829327",
   "metadata": {
    "height": 98
   },
   "outputs": [
    {
     "name": "stdout",
     "output_type": "stream",
     "text": [
      "The last thing I mentioned was the tuition fees for KU. The tuition fee for Thai students is 60,700 Baht per semester, and there is an additional 10,000 Baht per semester for foreign students.\n"
     ]
    }
   ],
   "source": [
    "const response3 = await chatEngine.chat({\n",
    "  message: newMessage,\n",
    "  chatHistory: messageHistory\n",
    "});\n",
    "console.log(response3.toString())"
   ]
  },
  {
   "cell_type": "markdown",
   "id": "4c466165",
   "metadata": {},
   "source": [
    "## 3. Streaming"
   ]
  },
  {
   "cell_type": "markdown",
   "id": "70fcbe70",
   "metadata": {},
   "source": [
    "### Setting stream to true!"
   ]
  },
  {
   "cell_type": "code",
   "execution_count": 12,
   "id": "67a85874-e775-4175-8936-0294020dbdd5",
   "metadata": {
    "height": 115
   },
   "outputs": [
    {
     "name": "stdout",
     "output_type": "stream",
     "text": [
      "_async_generator$4 { _invoke: [Function: send] }\n"
     ]
    }
   ],
   "source": [
    "const response4 = await chatEngine.chat({\n",
    "  message: newMessage,\n",
    "  chatHistory: messageHistory,\n",
    "  stream: true,\n",
    "});\n",
    "console.log(response4)"
   ]
  },
  {
   "cell_type": "markdown",
   "id": "c719a935",
   "metadata": {},
   "source": [
    "### Check the response!"
   ]
  },
  {
   "cell_type": "code",
   "execution_count": 13,
   "id": "f61332af-1a63-44ec-8581-999345398fb3",
   "metadata": {
    "height": 64
   },
   "outputs": [
    {
     "name": "stdout",
     "output_type": "stream",
     "text": [
      "\n",
      "The\n",
      " last\n",
      " thing\n",
      " I\n",
      " mentioned\n",
      " was\n",
      " the\n",
      " academic\n",
      " calendar\n",
      " for\n",
      " K\n",
      "U\n",
      ".\n",
      " The\n",
      " university\n",
      " operates\n",
      " on\n",
      " a\n",
      " two\n",
      "-\n",
      "semester\n",
      " system\n",
      ",\n",
      " with\n",
      " the\n",
      " first\n",
      " semester\n",
      " running\n",
      " from\n",
      " August\n",
      " to\n",
      " December\n",
      " and\n",
      " the\n",
      " second\n",
      " semester\n",
      " running\n",
      " from\n",
      " January\n",
      " to\n",
      " May\n",
      ".\n",
      "\n"
     ]
    }
   ],
   "source": [
    "for await (const data of response4) {\n",
    "    console.log(data.response); // Print the data\n",
    "}"
   ]
  },
  {
   "cell_type": "markdown",
   "id": "1f696259",
   "metadata": {},
   "source": [
    "## Create Llama App"
   ]
  },
  {
   "cell_type": "markdown",
   "id": "b732d778",
   "metadata": {},
   "source": [
    "### Let's see all three techniques in a real web app!"
   ]
  },
  {
   "cell_type": "markdown",
   "id": "fa48c2f5",
   "metadata": {},
   "source": [
    "We will use the utility functions in **utils.ts** file. \n",
    "\n",
    "**Note:** Go to `File` and click on `Open` to access the **utils.ts** file and all the code used in this lesson."
   ]
  },
  {
   "cell_type": "code",
   "execution_count": 14,
   "id": "3f4395d9-875d-42e5-9349-ff298a6fb2e5",
   "metadata": {
    "height": 30
   },
   "outputs": [],
   "source": [
    "import { runCreateLlamaApp } from './utils.ts'"
   ]
  },
  {
   "cell_type": "markdown",
   "id": "6396d481",
   "metadata": {},
   "source": [
    "**Note**: The below code might take a minute to complete. Once done, please click on the link to access the web app!"
   ]
  },
  {
   "cell_type": "code",
   "execution_count": 15,
   "id": "f2c044fa-68b3-4507-bfe1-a6f11aa22b61",
   "metadata": {
    "height": 30
   },
   "outputs": [
    {
     "data": {
      "text/html": [
       "Check <a href=http://localhost:3000 target='_blank'>http://localhost:3000</a> you'll see a web app set up with our data! "
      ],
      "text/plan": [
       "http://localhost:3000"
      ]
     },
     "execution_count": 15,
     "metadata": {},
     "output_type": "execute_result"
    }
   ],
   "source": [
    "runCreateLlamaApp()"
   ]
  }
 ],
 "metadata": {
  "kernelspec": {
   "display_name": "Deno",
   "language": "typescript",
   "name": "deno"
  },
  "language_info": {
   "file_extension": ".ts",
   "mimetype": "text/x.typescript",
   "name": "typescript",
   "nb_converter": "script",
   "pygments_lexer": "typescript",
   "version": "5.4.3"
  }
 },
 "nbformat": 4,
 "nbformat_minor": 5
}
